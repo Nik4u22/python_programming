{
 "cells": [
  {
   "cell_type": "code",
   "execution_count": null,
   "id": "a4f3a07e",
   "metadata": {},
   "outputs": [],
   "source": [
    "# list\n",
    "\n",
    "it is a derived data type that is wriiten inside a [] and each elements are sep by ,"
   ]
  },
  {
   "cell_type": "code",
   "execution_count": 2,
   "id": "90c35683",
   "metadata": {},
   "outputs": [
    {
     "name": "stdout",
     "output_type": "stream",
     "text": [
      "[1, 2, 3, 4, 5] <class 'list'>\n"
     ]
    }
   ],
   "source": [
    "a = [1,2,3,4,5]\n",
    "print(a , type(a))"
   ]
  },
  {
   "cell_type": "code",
   "execution_count": 3,
   "id": "9bcc52d7",
   "metadata": {},
   "outputs": [
    {
     "data": {
      "text/plain": [
       "5"
      ]
     },
     "execution_count": 3,
     "metadata": {},
     "output_type": "execute_result"
    }
   ],
   "source": [
    "# check the len of the list\n",
    "len(a)"
   ]
  },
  {
   "cell_type": "code",
   "execution_count": null,
   "id": "8b1f2a12",
   "metadata": {},
   "outputs": [],
   "source": [
    "# Create list"
   ]
  },
  {
   "cell_type": "code",
   "execution_count": 4,
   "id": "c14be440",
   "metadata": {},
   "outputs": [
    {
     "name": "stdout",
     "output_type": "stream",
     "text": [
      "['apple', 'mango', 'banana']\n"
     ]
    }
   ],
   "source": [
    "# 1. you already know the ele\n",
    "\n",
    "list1 = ['apple', 'mango', 'banana']\n",
    "print(list1)"
   ]
  },
  {
   "cell_type": "code",
   "execution_count": 8,
   "id": "de1dfbc9",
   "metadata": {},
   "outputs": [
    {
     "name": "stdout",
     "output_type": "stream",
     "text": [
      "please enter the list['raja', 'khan']\n",
      "['raja', 'khan'] <class 'list'>\n"
     ]
    }
   ],
   "source": [
    "#2. taking the user input - eval\n",
    "\n",
    "list1 = eval(input('please enter the list'))\n",
    "print(list1 , type(list1))"
   ]
  },
  {
   "cell_type": "code",
   "execution_count": 16,
   "id": "4d7d585e",
   "metadata": {},
   "outputs": [],
   "source": [
    "#3. type casting - can be done only on iterable object\n",
    "\n",
    "a = 1\n",
    "b = 'abc'\n",
    "c = True"
   ]
  },
  {
   "cell_type": "code",
   "execution_count": null,
   "id": "46b82862",
   "metadata": {},
   "outputs": [],
   "source": []
  },
  {
   "cell_type": "code",
   "execution_count": null,
   "id": "6172b66e",
   "metadata": {},
   "outputs": [],
   "source": [
    "Any tech to find out if object is iterable or not\n",
    "\n",
    "1. if the len function is working on them\n",
    "2. if dir(object) has __iter__"
   ]
  },
  {
   "cell_type": "code",
   "execution_count": 14,
   "id": "b17df4d7",
   "metadata": {},
   "outputs": [
    {
     "data": {
      "text/plain": [
       "5"
      ]
     },
     "execution_count": 14,
     "metadata": {},
     "output_type": "execute_result"
    }
   ],
   "source": [
    "a = [1,2,3,4,5]\n",
    "len(a)"
   ]
  },
  {
   "cell_type": "code",
   "execution_count": 15,
   "id": "ca256ab9",
   "metadata": {},
   "outputs": [
    {
     "name": "stdout",
     "output_type": "stream",
     "text": [
      "['__add__', '__class__', '__class_getitem__', '__contains__', '__delattr__', '__delitem__', '__dir__', '__doc__', '__eq__', '__format__', '__ge__', '__getattribute__', '__getitem__', '__gt__', '__hash__', '__iadd__', '__imul__', '__init__', '__init_subclass__', '__iter__', '__le__', '__len__', '__lt__', '__mul__', '__ne__', '__new__', '__reduce__', '__reduce_ex__', '__repr__', '__reversed__', '__rmul__', '__setattr__', '__setitem__', '__sizeof__', '__str__', '__subclasshook__', 'append', 'clear', 'copy', 'count', 'extend', 'index', 'insert', 'pop', 'remove', 'reverse', 'sort']\n"
     ]
    }
   ],
   "source": [
    "print(dir(a))"
   ]
  },
  {
   "cell_type": "code",
   "execution_count": 17,
   "id": "c803d756",
   "metadata": {},
   "outputs": [
    {
     "ename": "TypeError",
     "evalue": "'int' object is not iterable",
     "output_type": "error",
     "traceback": [
      "\u001b[0;31m---------------------------------------------------------------------------\u001b[0m",
      "\u001b[0;31mTypeError\u001b[0m                                 Traceback (most recent call last)",
      "\u001b[0;32m/var/folders/tz/1bkg3flj25ld_mcgv99ct6w80000gn/T/ipykernel_14358/943973770.py\u001b[0m in \u001b[0;36m<module>\u001b[0;34m\u001b[0m\n\u001b[0;32m----> 1\u001b[0;31m \u001b[0mlist\u001b[0m\u001b[0;34m(\u001b[0m\u001b[0ma\u001b[0m\u001b[0;34m)\u001b[0m\u001b[0;34m\u001b[0m\u001b[0;34m\u001b[0m\u001b[0m\n\u001b[0m",
      "\u001b[0;31mTypeError\u001b[0m: 'int' object is not iterable"
     ]
    }
   ],
   "source": [
    "list(a)"
   ]
  },
  {
   "cell_type": "code",
   "execution_count": 18,
   "id": "2edd472b",
   "metadata": {},
   "outputs": [
    {
     "data": {
      "text/plain": [
       "['a', 'b', 'c']"
      ]
     },
     "execution_count": 18,
     "metadata": {},
     "output_type": "execute_result"
    }
   ],
   "source": [
    "list(b)"
   ]
  },
  {
   "cell_type": "code",
   "execution_count": 19,
   "id": "52c75831",
   "metadata": {},
   "outputs": [
    {
     "ename": "TypeError",
     "evalue": "'bool' object is not iterable",
     "output_type": "error",
     "traceback": [
      "\u001b[0;31m---------------------------------------------------------------------------\u001b[0m",
      "\u001b[0;31mTypeError\u001b[0m                                 Traceback (most recent call last)",
      "\u001b[0;32m/var/folders/tz/1bkg3flj25ld_mcgv99ct6w80000gn/T/ipykernel_14358/1169914839.py\u001b[0m in \u001b[0;36m<module>\u001b[0;34m\u001b[0m\n\u001b[0;32m----> 1\u001b[0;31m \u001b[0mlist\u001b[0m\u001b[0;34m(\u001b[0m\u001b[0mc\u001b[0m\u001b[0;34m)\u001b[0m\u001b[0;34m\u001b[0m\u001b[0;34m\u001b[0m\u001b[0m\n\u001b[0m",
      "\u001b[0;31mTypeError\u001b[0m: 'bool' object is not iterable"
     ]
    }
   ],
   "source": [
    "list(c)"
   ]
  },
  {
   "cell_type": "code",
   "execution_count": 20,
   "id": "5db0915b",
   "metadata": {},
   "outputs": [
    {
     "data": {
      "text/plain": [
       "['hello', 'world']"
      ]
     },
     "execution_count": 20,
     "metadata": {},
     "output_type": "execute_result"
    }
   ],
   "source": [
    "#4. uisng the split method\n",
    "\n",
    "a = 'hello world'\n",
    "a.split()"
   ]
  },
  {
   "cell_type": "code",
   "execution_count": null,
   "id": "20b9e6da",
   "metadata": {},
   "outputs": [],
   "source": [
    "Properties of list\n",
    "\n",
    "1. Sequence data type\n",
    "2. +ve and -ve indexing\n",
    "3. allows duplicate element\n",
    "4. allows to store any kind of data type\n",
    "5. Basic op - indexing, slicing , concatination , repetition, identity, membership\n",
    "6. list is mutable"
   ]
  },
  {
   "cell_type": "code",
   "execution_count": 21,
   "id": "b13215ce",
   "metadata": {},
   "outputs": [
    {
     "name": "stdout",
     "output_type": "stream",
     "text": [
      "6\n"
     ]
    }
   ],
   "source": [
    "# indexing\n",
    "\n",
    "a = [1,2,3,4,5,6,7,8]\n",
    "print(a[-3])"
   ]
  },
  {
   "cell_type": "code",
   "execution_count": 22,
   "id": "9eb36610",
   "metadata": {},
   "outputs": [
    {
     "data": {
      "text/plain": [
       "[4, 5, 6, 7]"
      ]
     },
     "execution_count": 22,
     "metadata": {},
     "output_type": "execute_result"
    }
   ],
   "source": [
    "# slicing\n",
    "a[-5:-1]"
   ]
  },
  {
   "cell_type": "code",
   "execution_count": 23,
   "id": "aafbb89f",
   "metadata": {},
   "outputs": [
    {
     "data": {
      "text/plain": [
       "[8, 7, 6, 5, 4, 3, 2, 1]"
      ]
     },
     "execution_count": 23,
     "metadata": {},
     "output_type": "execute_result"
    }
   ],
   "source": [
    "a[::-1]"
   ]
  },
  {
   "cell_type": "code",
   "execution_count": 24,
   "id": "f06d5449",
   "metadata": {},
   "outputs": [
    {
     "name": "stdout",
     "output_type": "stream",
     "text": [
      "[1, 1, 1, 1, 1, 1, 1]\n"
     ]
    }
   ],
   "source": [
    "# allows duplicate element\n",
    "\n",
    "a = [1,1,1,1,1,1,1]\n",
    "print(a)"
   ]
  },
  {
   "cell_type": "code",
   "execution_count": 25,
   "id": "d2d79d88",
   "metadata": {},
   "outputs": [
    {
     "name": "stdout",
     "output_type": "stream",
     "text": [
      "['abc', True, False, (4+6j), 1, 1.2, None, [1, 2, 3], (1, 2, 3)]\n"
     ]
    }
   ],
   "source": [
    "# allows to store any kind of data type\n",
    "\n",
    "a = ['abc' , True , False , 4+6j , 1, 1.2 , None, [1,2,3] , (1,2,3)]\n",
    "print(a)"
   ]
  },
  {
   "cell_type": "code",
   "execution_count": 26,
   "id": "de97fb84",
   "metadata": {},
   "outputs": [
    {
     "name": "stdout",
     "output_type": "stream",
     "text": [
      "[1, 2, 3, 4, 100, 200]\n"
     ]
    }
   ],
   "source": [
    "# concatination\n",
    "\"\"\"\n",
    "op - +\n",
    "operand - both the operands should be a list\n",
    "\"\"\"\n",
    "\n",
    "a = [1,2,3,4]\n",
    "b = [100,200]\n",
    "\n",
    "print(a+b)"
   ]
  },
  {
   "cell_type": "code",
   "execution_count": 27,
   "id": "8d480845",
   "metadata": {},
   "outputs": [
    {
     "name": "stdout",
     "output_type": "stream",
     "text": [
      "[1, 2, 3, 4, 1, 2, 3, 4, 1, 2, 3, 4]\n"
     ]
    }
   ],
   "source": [
    "# repetition\n",
    "\"\"\"\n",
    "op - *\n",
    "operand - one of the operands should be a list and other should be a int\n",
    "\"\"\"\n",
    "\n",
    "a = [1,2,3,4]\n",
    "b = 3\n",
    "\n",
    "print(a*b)\n"
   ]
  },
  {
   "cell_type": "code",
   "execution_count": 28,
   "id": "f388d9e3",
   "metadata": {},
   "outputs": [
    {
     "name": "stdout",
     "output_type": "stream",
     "text": [
      "False\n"
     ]
    }
   ],
   "source": [
    "# identity\n",
    "'''\n",
    "it tells you if the memory address of two varibal is same or not\n",
    "op - is and is not\n",
    "return is the bool\n",
    "'''\n",
    "\n",
    "a = [1,2,3,4,5]\n",
    "b = [1,2,3,4,5]\n",
    "\n",
    "print(a is b)"
   ]
  },
  {
   "cell_type": "code",
   "execution_count": null,
   "id": "0d50ac1e",
   "metadata": {},
   "outputs": [],
   "source": [
    "a = [1,2,3,4]\n",
    "b = a #aliasing"
   ]
  },
  {
   "cell_type": "code",
   "execution_count": 29,
   "id": "81ccc6db",
   "metadata": {},
   "outputs": [
    {
     "name": "stdout",
     "output_type": "stream",
     "text": [
      "False\n"
     ]
    }
   ],
   "source": [
    "# membership op\n",
    "\"\"\"\n",
    "if the ele is present in a list\n",
    "\n",
    "op - in , not in\n",
    "return. -Bool\n",
    "\"\"\"\n",
    "\n",
    "a = ['abc' , True , False , 4+6j , 1, 1.2 , None, [1,2,3] , (1,2,3)]\n",
    "print('abC' in a)"
   ]
  },
  {
   "cell_type": "code",
   "execution_count": 30,
   "id": "39503cf3",
   "metadata": {},
   "outputs": [
    {
     "name": "stdout",
     "output_type": "stream",
     "text": [
      "False\n"
     ]
    }
   ],
   "source": [
    "a = ['abc' , True , False , 4+6j , 1, 1.2 , None, [1,2,3] , (1,2,3)]\n",
    "print('None' in a)"
   ]
  },
  {
   "cell_type": "code",
   "execution_count": 31,
   "id": "7068e499",
   "metadata": {},
   "outputs": [
    {
     "name": "stdout",
     "output_type": "stream",
     "text": [
      "True\n"
     ]
    }
   ],
   "source": [
    "a = ['abc' , True , False , 4+6j , 1, 1.2 , None, [1,2,3] , (1,2,3)]\n",
    "print(1 in a)"
   ]
  },
  {
   "cell_type": "code",
   "execution_count": 32,
   "id": "65580a06",
   "metadata": {},
   "outputs": [
    {
     "name": "stdout",
     "output_type": "stream",
     "text": [
      "[1, 2, 3, 4, 5] 140500459909568\n",
      "[100, 2, 3, 4, 5] 140500459909568\n"
     ]
    }
   ],
   "source": [
    "a = [1,2,3,4,5]\n",
    "print(a , id(a))\n",
    "a[0] = 100\n",
    "print(a, id(a))"
   ]
  },
  {
   "cell_type": "code",
   "execution_count": null,
   "id": "28d2940b",
   "metadata": {},
   "outputs": [],
   "source": [
    "# list is mutable( change the orginal objects)"
   ]
  },
  {
   "cell_type": "code",
   "execution_count": 35,
   "id": "9de71452",
   "metadata": {},
   "outputs": [
    {
     "data": {
      "text/plain": [
       "5"
      ]
     },
     "execution_count": 35,
     "metadata": {},
     "output_type": "execute_result"
    }
   ],
   "source": [
    "# nested list - list inside a list\n",
    "\n",
    "a = [1,2,3,[5,6,7] , [8,9,10]]\n",
    "a[3][0]"
   ]
  },
  {
   "cell_type": "code",
   "execution_count": 36,
   "id": "10665de2",
   "metadata": {},
   "outputs": [
    {
     "data": {
      "text/plain": [
       "10"
      ]
     },
     "execution_count": 36,
     "metadata": {},
     "output_type": "execute_result"
    }
   ],
   "source": [
    "a[-1][-1]"
   ]
  },
  {
   "cell_type": "code",
   "execution_count": 37,
   "id": "ffe9affe",
   "metadata": {},
   "outputs": [
    {
     "ename": "IndexError",
     "evalue": "list index out of range",
     "output_type": "error",
     "traceback": [
      "\u001b[0;31m---------------------------------------------------------------------------\u001b[0m",
      "\u001b[0;31mIndexError\u001b[0m                                Traceback (most recent call last)",
      "\u001b[0;32m/var/folders/tz/1bkg3flj25ld_mcgv99ct6w80000gn/T/ipykernel_14358/2674767179.py\u001b[0m in \u001b[0;36m<module>\u001b[0;34m\u001b[0m\n\u001b[1;32m      1\u001b[0m \u001b[0ma\u001b[0m \u001b[0;34m=\u001b[0m \u001b[0;34m[\u001b[0m\u001b[0;34m[\u001b[0m\u001b[0;36m1\u001b[0m\u001b[0;34m,\u001b[0m\u001b[0;36m2\u001b[0m\u001b[0;34m,\u001b[0m\u001b[0;36m3\u001b[0m\u001b[0;34m,\u001b[0m\u001b[0;34m'afsan'\u001b[0m\u001b[0;34m,\u001b[0m \u001b[0;34m[\u001b[0m\u001b[0;34m'messi'\u001b[0m \u001b[0;34m,\u001b[0m \u001b[0;34m'ronaldo'\u001b[0m\u001b[0;34m]\u001b[0m\u001b[0;34m]\u001b[0m\u001b[0;34m]\u001b[0m\u001b[0;34m\u001b[0m\u001b[0;34m\u001b[0m\u001b[0m\n\u001b[1;32m      2\u001b[0m \u001b[0;34m\u001b[0m\u001b[0m\n\u001b[0;32m----> 3\u001b[0;31m \u001b[0ma\u001b[0m\u001b[0;34m[\u001b[0m\u001b[0;36m1\u001b[0m\u001b[0;34m]\u001b[0m\u001b[0;34m[\u001b[0m\u001b[0;34m-\u001b[0m\u001b[0;36m1\u001b[0m\u001b[0;34m]\u001b[0m\u001b[0;34m[\u001b[0m\u001b[0;36m0\u001b[0m\u001b[0;34m]\u001b[0m\u001b[0;34m[\u001b[0m\u001b[0;36m0\u001b[0m\u001b[0;34m:\u001b[0m\u001b[0;36m3\u001b[0m\u001b[0;34m]\u001b[0m\u001b[0;34m\u001b[0m\u001b[0;34m\u001b[0m\u001b[0m\n\u001b[0m",
      "\u001b[0;31mIndexError\u001b[0m: list index out of range"
     ]
    }
   ],
   "source": [
    "a = [[1,2,3,'afsan', ['messi' , 'ronaldo']]]\n",
    "\n",
    "a[1][-1][0][0:3]"
   ]
  },
  {
   "cell_type": "code",
   "execution_count": 38,
   "id": "a4a11a55",
   "metadata": {},
   "outputs": [
    {
     "data": {
      "text/plain": [
       "'mes'"
      ]
     },
     "execution_count": 38,
     "metadata": {},
     "output_type": "execute_result"
    }
   ],
   "source": [
    "a = [[1,2,3,'afsan', ['messi' , 'ronaldo']]]\n",
    "\n",
    "a[0][-1][0][0:3]"
   ]
  },
  {
   "cell_type": "code",
   "execution_count": 39,
   "id": "c5cf05f1",
   "metadata": {},
   "outputs": [
    {
     "data": {
      "text/plain": [
       "'a'"
      ]
     },
     "execution_count": 39,
     "metadata": {},
     "output_type": "execute_result"
    }
   ],
   "source": [
    "nest_list_1= [[1,2,4] , [5,6,7], [8,[9,10, ['a','b']]]]\n",
    "nest_list_1[-1][-1][-1][0]"
   ]
  },
  {
   "cell_type": "code",
   "execution_count": 40,
   "id": "e6099181",
   "metadata": {},
   "outputs": [
    {
     "data": {
      "text/plain": [
       "'a'"
      ]
     },
     "execution_count": 40,
     "metadata": {},
     "output_type": "execute_result"
    }
   ],
   "source": [
    "nest_list_1[-1][-1][-1][-2]"
   ]
  },
  {
   "cell_type": "code",
   "execution_count": 41,
   "id": "e5b4a874",
   "metadata": {},
   "outputs": [
    {
     "data": {
      "text/plain": [
       "'a'"
      ]
     },
     "execution_count": 41,
     "metadata": {},
     "output_type": "execute_result"
    }
   ],
   "source": [
    "nest_list_1[2][1][2][0]"
   ]
  },
  {
   "cell_type": "code",
   "execution_count": 42,
   "id": "9024d7b2",
   "metadata": {},
   "outputs": [],
   "source": [
    "nest_list_1= [[1,2,4] , [5,6,[7,'raja' , ['chelsea' , 'psg']]], [8,[9,10, ['a','b']]]]"
   ]
  },
  {
   "cell_type": "code",
   "execution_count": 43,
   "id": "677bbc01",
   "metadata": {},
   "outputs": [
    {
     "data": {
      "text/plain": [
       "'gsp'"
      ]
     },
     "execution_count": 43,
     "metadata": {},
     "output_type": "execute_result"
    }
   ],
   "source": [
    "nest_list_1[1][2][2][1][::-1]"
   ]
  },
  {
   "cell_type": "code",
   "execution_count": 48,
   "id": "bbe66418",
   "metadata": {},
   "outputs": [
    {
     "data": {
      "text/plain": [
       "'gsp'"
      ]
     },
     "execution_count": 48,
     "metadata": {},
     "output_type": "execute_result"
    }
   ],
   "source": [
    "nest_list_1[1][2][2][1][::-1]"
   ]
  },
  {
   "cell_type": "code",
   "execution_count": null,
   "id": "72a623e8",
   "metadata": {},
   "outputs": [],
   "source": [
    "saturday - methods\n",
    "deep and shallow copy\n",
    "for\n",
    "list comphresion\n",
    "\n",
    "\n",
    "sunday - tuple, set , dict"
   ]
  }
 ],
 "metadata": {
  "kernelspec": {
   "display_name": "Python 3 (ipykernel)",
   "language": "python",
   "name": "python3"
  },
  "language_info": {
   "codemirror_mode": {
    "name": "ipython",
    "version": 3
   },
   "file_extension": ".py",
   "mimetype": "text/x-python",
   "name": "python",
   "nbconvert_exporter": "python",
   "pygments_lexer": "ipython3",
   "version": "3.9.7"
  }
 },
 "nbformat": 4,
 "nbformat_minor": 5
}
