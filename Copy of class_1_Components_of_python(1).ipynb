{
 "cells": [
  {
   "cell_type": "code",
   "execution_count": null,
   "id": "24419f8f",
   "metadata": {},
   "outputs": [],
   "source": [
    "music file - .mp3. .wav\n",
    "video file - .mp4\n",
    "\n",
    "python file - .py - can work anywhere\n",
    "anaconda - .ipynb (interactive python notebook) - anaocnda"
   ]
  },
  {
   "cell_type": "code",
   "execution_count": null,
   "id": "d448b6e8",
   "metadata": {},
   "outputs": [],
   "source": [
    "# Components of Python\n",
    "\n",
    "1. literals\n",
    "2. Constants\n",
    "3. Vairbale\n",
    "4. Indentifiers\n",
    "5. reserved words\n",
    "6. statements and expression\n",
    "7. block and indentation\n",
    "8. comments"
   ]
  },
  {
   "cell_type": "markdown",
   "id": "2fb0e87e",
   "metadata": {},
   "source": [
    "# 1.literals\n",
    "\n",
    "- any value that we use in python\n",
    "\n",
    "int literals - if any value is without a decimal point eg 99 , 99999 , -99999 , 0 , 5\n",
    "\n",
    "float literals - if any value with a decimal point eg 99.0 , 100.99999 , 99.9999 , -9999.999\n",
    "\n",
    "string literals - anything that can be written inside a '..' , \"...\" , \"\"\"....\"\"\" , '''....'''\n",
    "\n",
    "Bool Literals - True and False\n",
    "\n",
    "Complex Literals - any value that can be wriiten in the form a+bj where a is the real and b is imag\n",
    "\n",
    "None Literals - None"
   ]
  },
  {
   "cell_type": "markdown",
   "id": "16bd6cfc",
   "metadata": {},
   "source": [
    "100   -int\n",
    "100.0 - float\n",
    "'True' - str\n",
    "\"afsaan\" - str\n",
    "True - bool\n",
    "False - bool\n",
    "'6+7j' - str\n",
    "\"\"\"hello\"\"\" - str\n",
    "None - None\n",
    "24.5 - float\n",
    "25 - int"
   ]
  },
  {
   "cell_type": "code",
   "execution_count": null,
   "id": "408b1e4d",
   "metadata": {},
   "outputs": [],
   "source": [
    "# indentifiers\n",
    "\n",
    "Constand and varibale are subset of indentifier\n",
    "\n",
    "we use identifier in broder terms\n",
    "\n",
    "any name that you give to a varibale , constant , fucntion , class\n",
    "\n",
    "# indetifier rules\n",
    "\n",
    "1. you can only use a-z , A-Z , 0-9 , _\n",
    "2. you are not allowed to use special characters\n",
    "3. you cannot start with the number\n",
    "4. it is case sensitive\n",
    "5. it can be of any length\n",
    "6. not allowed to use keywords (reserved words)"
   ]
  },
  {
   "cell_type": "code",
   "execution_count": null,
   "id": "137de99f",
   "metadata": {},
   "outputs": [],
   "source": [
    "# 1. you can only use a-z , A-Z , 0-9 , _\n",
    "\n",
    "abc\n",
    "__abc__\n",
    "abc100"
   ]
  },
  {
   "cell_type": "code",
   "execution_count": 3,
   "id": "f219023f",
   "metadata": {},
   "outputs": [
    {
     "data": {
      "text/plain": [
       "100"
      ]
     },
     "execution_count": 3,
     "metadata": {},
     "output_type": "execute_result"
    }
   ],
   "source": [
    "# 2. you are not allowed to use special characters\n",
    "\n",
    "abc@abc\n",
    "abc#\n",
    "abc-"
   ]
  },
  {
   "cell_type": "code",
   "execution_count": null,
   "id": "39e2e726",
   "metadata": {},
   "outputs": [],
   "source": [
    "# 3. you cannot start with the number\n",
    "\n",
    "10abc"
   ]
  },
  {
   "cell_type": "code",
   "execution_count": 6,
   "id": "65d14d3c",
   "metadata": {},
   "outputs": [
    {
     "name": "stdout",
     "output_type": "stream",
     "text": [
      "10\n",
      "20\n"
     ]
    }
   ],
   "source": [
    "# 4. it is case sensitive\n",
    "\n",
    "a = 10\n",
    "A = 20\n",
    "\n",
    "print(a)\n",
    "print(A)"
   ]
  },
  {
   "cell_type": "code",
   "execution_count": 9,
   "id": "3a26e53b",
   "metadata": {},
   "outputs": [
    {
     "name": "stdout",
     "output_type": "stream",
     "text": [
      "100\n"
     ]
    }
   ],
   "source": [
    "Afsaan = 10\n",
    "afsaan = 100\n",
    "\n",
    "print(afsaan)"
   ]
  },
  {
   "cell_type": "code",
   "execution_count": 10,
   "id": "6b3bbbf7",
   "metadata": {},
   "outputs": [
    {
     "name": "stdout",
     "output_type": "stream",
     "text": [
      "100\n"
     ]
    }
   ],
   "source": [
    "# 5. it can be of any length\n",
    "\n",
    "adfasdfasdfasdfasdfsdfdfasfasdfsffsadfsdffsadfsd = 100\n",
    "\n",
    "print(adfasdfasdfasdfasdfsdfdfasfasdfsffsadfsdffsadfsd)"
   ]
  },
  {
   "cell_type": "code",
   "execution_count": 12,
   "id": "dc003669",
   "metadata": {},
   "outputs": [],
   "source": [
    "# 6. not allowed to use keywords (reserved words)\n",
    "\n",
    "true = 100"
   ]
  },
  {
   "cell_type": "code",
   "execution_count": 13,
   "id": "b451bc25",
   "metadata": {},
   "outputs": [
    {
     "name": "stdout",
     "output_type": "stream",
     "text": [
      "['False', 'None', 'True', '__peg_parser__', 'and', 'as', 'assert', 'async', 'await', 'break', 'class', 'continue', 'def', 'del', 'elif', 'else', 'except', 'finally', 'for', 'from', 'global', 'if', 'import', 'in', 'is', 'lambda', 'nonlocal', 'not', 'or', 'pass', 'raise', 'return', 'try', 'while', 'with', 'yield']\n"
     ]
    }
   ],
   "source": [
    "import keyword\n",
    "\n",
    "print(keyword.kwlist)"
   ]
  },
  {
   "cell_type": "markdown",
   "id": "eab87d86",
   "metadata": {},
   "source": [
    "# 5. reserved words\n",
    "\n",
    "- words / names that are already used by python for some purposes"
   ]
  },
  {
   "cell_type": "markdown",
   "id": "b4ff7d9f",
   "metadata": {},
   "source": [
    "# 6. statements and expression\n",
    "\n",
    "- expression - any literals / varibale to give some value , it will always give you the output\n",
    "- Statement - no output on the screen"
   ]
  },
  {
   "cell_type": "code",
   "execution_count": 15,
   "id": "1c3a4643",
   "metadata": {},
   "outputs": [
    {
     "data": {
      "text/plain": [
       "10"
      ]
     },
     "execution_count": 15,
     "metadata": {},
     "output_type": "execute_result"
    }
   ],
   "source": [
    "10"
   ]
  },
  {
   "cell_type": "code",
   "execution_count": 16,
   "id": "c4a8593f",
   "metadata": {},
   "outputs": [
    {
     "data": {
      "text/plain": [
       "30"
      ]
     },
     "execution_count": 16,
     "metadata": {},
     "output_type": "execute_result"
    }
   ],
   "source": [
    "10+20 # addition"
   ]
  },
  {
   "cell_type": "code",
   "execution_count": 17,
   "id": "53120b9b",
   "metadata": {},
   "outputs": [
    {
     "data": {
      "text/plain": [
       "'afsaan'"
      ]
     },
     "execution_count": 17,
     "metadata": {},
     "output_type": "execute_result"
    }
   ],
   "source": [
    "\"afsaan\""
   ]
  },
  {
   "cell_type": "code",
   "execution_count": 18,
   "id": "a01e262c",
   "metadata": {},
   "outputs": [],
   "source": [
    "a = 10 #statment"
   ]
  },
  {
   "cell_type": "code",
   "execution_count": 19,
   "id": "a93c22d5",
   "metadata": {},
   "outputs": [],
   "source": [
    "for i in range(100):\n",
    "    pass"
   ]
  },
  {
   "cell_type": "code",
   "execution_count": null,
   "id": "d5e559a6",
   "metadata": {},
   "outputs": [],
   "source": [
    "# 7. Blocks and Indentation\n",
    "\n",
    "stat1\n",
    "stat2\n",
    "stat3\n",
    "stat4\n",
    "stat5\n",
    "stat6\n",
    "\n",
    "exec step - 1,2,3,4,5,6\n",
    "\n",
    "stat1\n",
    "stat2\n",
    "if cond:\n",
    "    stat3\n",
    "    stat4\n",
    "stat5\n",
    "stat6\n",
    "\n",
    "if cond is True - 1,2,3,4,5,6\n",
    "if cond is False - 1,2,5,6"
   ]
  },
  {
   "cell_type": "code",
   "execution_count": null,
   "id": "abf691f2",
   "metadata": {},
   "outputs": [],
   "source": [
    "stat1\n",
    "stat2\n",
    "if cond:\n",
    "    stat3\n",
    "    stat4\n",
    "stat5\n",
    "stat6\n",
    "\n",
    "if cond is True - 1,2,3,4,5,6\n",
    "if cond is False - 1,2,5,6"
   ]
  },
  {
   "cell_type": "code",
   "execution_count": 21,
   "id": "5e61bd83",
   "metadata": {},
   "outputs": [
    {
     "name": "stdout",
     "output_type": "stream",
     "text": [
      "hi\n",
      "hello\n",
      "inside if\n",
      "inside if 1\n",
      "bye\n",
      "see you\n"
     ]
    }
   ],
   "source": [
    "print('hi')\n",
    "print('hello')\n",
    "if 10>2:\n",
    "    print('inside if')\n",
    "    print('inside if 1')\n",
    "print('bye')\n",
    "print('see you')"
   ]
  },
  {
   "cell_type": "code",
   "execution_count": null,
   "id": "01481c5e",
   "metadata": {},
   "outputs": [],
   "source": [
    "hi\n",
    "hello\n",
    "inside if\n",
    "inside if 1\n",
    "bye\n",
    "see you"
   ]
  },
  {
   "cell_type": "code",
   "execution_count": null,
   "id": "f4057fba",
   "metadata": {},
   "outputs": [],
   "source": [
    "# 8. Comments\n",
    "\n",
    "1. it is used to explain the code\n",
    "2. it make code more readbale/ understandable\n",
    "3. it prevents the execution of the code"
   ]
  },
  {
   "cell_type": "code",
   "execution_count": null,
   "id": "41ec8442",
   "metadata": {},
   "outputs": [],
   "source": [
    "pi = 3.14\n",
    "r = 5\n",
    "a = r*r\n",
    "print(a)"
   ]
  },
  {
   "cell_type": "code",
   "execution_count": null,
   "id": "1cf2654a",
   "metadata": {},
   "outputs": [],
   "source": [
    "#Area of sqaure\n",
    "pi = 3.14 # pi value\n",
    "r = 5 # side of square\n",
    "a = r*r # area of square\n",
    "print(a)"
   ]
  },
  {
   "cell_type": "code",
   "execution_count": 28,
   "id": "d3069e3b",
   "metadata": {},
   "outputs": [
    {
     "name": "stdout",
     "output_type": "stream",
     "text": [
      "afsaan\n",
      "Biven\n"
     ]
    }
   ],
   "source": [
    "# a = 'afsaan'\n",
    "b = 'dovvari'\n",
    "c = 'Biven'\n",
    "\n",
    "# print(a)\n",
    "# # print(b)\n",
    "# print(c)"
   ]
  },
  {
   "cell_type": "code",
   "execution_count": 33,
   "id": "b069c584",
   "metadata": {},
   "outputs": [
    {
     "name": "stdout",
     "output_type": "stream",
     "text": [
      "free shipping\n",
      "hello world\n"
     ]
    }
   ],
   "source": [
    "a=500\n",
    "b=200\n",
    "c=a+b\n",
    "if c>500:\n",
    "    print('free shipping')\n",
    "print('hello world')"
   ]
  },
  {
   "cell_type": "code",
   "execution_count": null,
   "id": "1f7b72e7",
   "metadata": {},
   "outputs": [],
   "source": [
    "# Data types in python\n",
    "\n",
    "1. Fundamental data types - basic data type\n",
    "\n",
    "- int\n",
    "- float\n",
    "- str\n",
    "- None\n",
    "- complex\n",
    "- bool\n",
    "\n",
    "2. Derived data types - it is derived from the fundamental data types\n",
    "\n",
    "- list\n",
    "- tuple\n",
    "- set\n",
    "- dict\n",
    "- range"
   ]
  },
  {
   "cell_type": "code",
   "execution_count": null,
   "id": "e787cc43",
   "metadata": {},
   "outputs": [],
   "source": [
    "# Integer data types\n",
    "\n",
    "- any value that is without a decimal point for eg -9999 , 0 , 9999 , 20, 10"
   ]
  },
  {
   "cell_type": "code",
   "execution_count": 34,
   "id": "a000fc52",
   "metadata": {},
   "outputs": [
    {
     "name": "stdout",
     "output_type": "stream",
     "text": [
      "200\n"
     ]
    }
   ],
   "source": [
    "a = 200\n",
    "\n",
    "print(a)"
   ]
  },
  {
   "cell_type": "code",
   "execution_count": 35,
   "id": "49b4ccde",
   "metadata": {},
   "outputs": [
    {
     "name": "stdout",
     "output_type": "stream",
     "text": [
      "<class 'int'>\n"
     ]
    }
   ],
   "source": [
    "# type() - it helps us to know the datatype\n",
    "\n",
    "a = 200\n",
    "print(type(a))"
   ]
  },
  {
   "cell_type": "code",
   "execution_count": 37,
   "id": "d2956bc1",
   "metadata": {},
   "outputs": [
    {
     "name": "stdout",
     "output_type": "stream",
     "text": [
      "<class 'float'>\n"
     ]
    }
   ],
   "source": [
    "print(type(200.2))"
   ]
  },
  {
   "cell_type": "markdown",
   "id": "647cb1b2",
   "metadata": {},
   "source": [
    "# Types of operation that we can perfrom on integer data types\n"
   ]
  },
  {
   "cell_type": "code",
   "execution_count": null,
   "id": "d133d1c7",
   "metadata": {},
   "outputs": [],
   "source": [
    "1. Arithamatic operation - + , - , * , /(float division) , //(floor divisison) , %(modulo) , **(exponent)"
   ]
  },
  {
   "cell_type": "code",
   "execution_count": 43,
   "id": "d4af71a1",
   "metadata": {},
   "outputs": [
    {
     "name": "stdout",
     "output_type": "stream",
     "text": [
      "20\n"
     ]
    }
   ],
   "source": [
    "print(10+10)"
   ]
  },
  {
   "cell_type": "code",
   "execution_count": 44,
   "id": "a22d0067",
   "metadata": {},
   "outputs": [
    {
     "name": "stdout",
     "output_type": "stream",
     "text": [
      "-10\n"
     ]
    }
   ],
   "source": [
    "print(10-20)"
   ]
  },
  {
   "cell_type": "code",
   "execution_count": 45,
   "id": "51210cff",
   "metadata": {},
   "outputs": [
    {
     "name": "stdout",
     "output_type": "stream",
     "text": [
      "200\n"
     ]
    }
   ],
   "source": [
    "print(10*20)"
   ]
  },
  {
   "cell_type": "code",
   "execution_count": 46,
   "id": "ed45a987",
   "metadata": {},
   "outputs": [
    {
     "name": "stdout",
     "output_type": "stream",
     "text": [
      "5.0\n"
     ]
    }
   ],
   "source": [
    "print(10/2)  # ans will always in float data type"
   ]
  },
  {
   "cell_type": "code",
   "execution_count": 47,
   "id": "f12d2c7b",
   "metadata": {},
   "outputs": [
    {
     "name": "stdout",
     "output_type": "stream",
     "text": [
      "7.5\n"
     ]
    }
   ],
   "source": [
    "print(15/2)  # ans will always in float data type"
   ]
  },
  {
   "cell_type": "code",
   "execution_count": 48,
   "id": "4092b839",
   "metadata": {},
   "outputs": [
    {
     "name": "stdout",
     "output_type": "stream",
     "text": [
      "7\n"
     ]
    }
   ],
   "source": [
    "print(15//2)"
   ]
  },
  {
   "cell_type": "code",
   "execution_count": 49,
   "id": "810c159d",
   "metadata": {},
   "outputs": [
    {
     "name": "stdout",
     "output_type": "stream",
     "text": [
      "3\n"
     ]
    }
   ],
   "source": [
    "print(10//3)"
   ]
  },
  {
   "cell_type": "code",
   "execution_count": 50,
   "id": "58e3e5c6",
   "metadata": {},
   "outputs": [
    {
     "name": "stdout",
     "output_type": "stream",
     "text": [
      "7.0\n"
     ]
    }
   ],
   "source": [
    "print(15.0//2)"
   ]
  },
  {
   "cell_type": "code",
   "execution_count": 51,
   "id": "825649c6",
   "metadata": {},
   "outputs": [
    {
     "name": "stdout",
     "output_type": "stream",
     "text": [
      "0\n"
     ]
    }
   ],
   "source": [
    "# modulo (remainder)\n",
    "\n",
    "print(10%2)"
   ]
  },
  {
   "cell_type": "code",
   "execution_count": 52,
   "id": "d58f1013",
   "metadata": {},
   "outputs": [
    {
     "name": "stdout",
     "output_type": "stream",
     "text": [
      "3\n"
     ]
    }
   ],
   "source": [
    "print(15%4)"
   ]
  },
  {
   "cell_type": "code",
   "execution_count": 54,
   "id": "5bca29f8",
   "metadata": {},
   "outputs": [
    {
     "name": "stdout",
     "output_type": "stream",
     "text": [
      "27\n"
     ]
    }
   ],
   "source": [
    "# ** exponent\n",
    "\n",
    "print(3**3)"
   ]
  },
  {
   "cell_type": "code",
   "execution_count": null,
   "id": "b3eff4cc",
   "metadata": {},
   "outputs": [],
   "source": [
    "# Comparison operator - >, >= , <= , <=\n",
    "\n",
    "- it always return the bool value - True / False\n",
    "\n",
    "Allowed combination\n",
    "\n",
    "int vs int\n",
    "float vs float\n",
    "bool vs int\n",
    "int vs float\n",
    "str vs str"
   ]
  },
  {
   "cell_type": "code",
   "execution_count": 55,
   "id": "bc70897f",
   "metadata": {},
   "outputs": [
    {
     "name": "stdout",
     "output_type": "stream",
     "text": [
      "False\n"
     ]
    }
   ],
   "source": [
    "a = 10\n",
    "b = 20\n",
    "\n",
    "print(a>b)"
   ]
  },
  {
   "cell_type": "code",
   "execution_count": 56,
   "id": "059807ae",
   "metadata": {},
   "outputs": [
    {
     "name": "stdout",
     "output_type": "stream",
     "text": [
      "True\n"
     ]
    }
   ],
   "source": [
    "a = 20.45\n",
    "b = 20\n",
    "\n",
    "print(a>b)"
   ]
  },
  {
   "cell_type": "code",
   "execution_count": 57,
   "id": "9af18fc9",
   "metadata": {},
   "outputs": [
    {
     "name": "stdout",
     "output_type": "stream",
     "text": [
      "True\n"
     ]
    }
   ],
   "source": [
    "a = 20.45\n",
    "b = 20.45\n",
    "\n",
    "print(a<=b)"
   ]
  },
  {
   "cell_type": "code",
   "execution_count": 58,
   "id": "8f72ba54",
   "metadata": {},
   "outputs": [
    {
     "name": "stdout",
     "output_type": "stream",
     "text": [
      "False\n"
     ]
    }
   ],
   "source": [
    "print(True > 3)"
   ]
  },
  {
   "cell_type": "code",
   "execution_count": 60,
   "id": "73a58e84",
   "metadata": {},
   "outputs": [
    {
     "name": "stdout",
     "output_type": "stream",
     "text": [
      "True\n"
     ]
    }
   ],
   "source": [
    "a = 'afsaan'\n",
    "b = 'Xyz'\n",
    "\"\"\"\n",
    "a --> 97\n",
    "X --> 88\n",
    "\n",
    "\"\"\"\n",
    "print(a > b)"
   ]
  },
  {
   "cell_type": "code",
   "execution_count": 61,
   "id": "89020ae5",
   "metadata": {},
   "outputs": [
    {
     "name": "stdout",
     "output_type": "stream",
     "text": [
      "False\n"
     ]
    }
   ],
   "source": [
    "a = 'afsaan'\n",
    "b = 'afsan'\n",
    "\"\"\"\n",
    "a --> 97\n",
    "n --> 110\n",
    "\n",
    "\"\"\"\n",
    "print(a > b)"
   ]
  },
  {
   "cell_type": "code",
   "execution_count": 62,
   "id": "a534f853",
   "metadata": {},
   "outputs": [
    {
     "ename": "TypeError",
     "evalue": "'>' not supported between instances of 'int' and 'str'",
     "output_type": "error",
     "traceback": [
      "\u001b[1;31m---------------------------------------------------------------------------\u001b[0m",
      "\u001b[1;31mTypeError\u001b[0m                                 Traceback (most recent call last)",
      "\u001b[1;32m~\\AppData\\Local\\Temp/ipykernel_11768/2766462895.py\u001b[0m in \u001b[0;36m<module>\u001b[1;34m\u001b[0m\n\u001b[0;32m      2\u001b[0m \u001b[0mb\u001b[0m \u001b[1;33m=\u001b[0m \u001b[1;34m'abc'\u001b[0m\u001b[1;33m\u001b[0m\u001b[1;33m\u001b[0m\u001b[0m\n\u001b[0;32m      3\u001b[0m \u001b[1;33m\u001b[0m\u001b[0m\n\u001b[1;32m----> 4\u001b[1;33m \u001b[0mprint\u001b[0m\u001b[1;33m(\u001b[0m\u001b[0ma\u001b[0m\u001b[1;33m>\u001b[0m\u001b[0mb\u001b[0m\u001b[1;33m)\u001b[0m\u001b[1;33m\u001b[0m\u001b[1;33m\u001b[0m\u001b[0m\n\u001b[0m",
      "\u001b[1;31mTypeError\u001b[0m: '>' not supported between instances of 'int' and 'str'"
     ]
    }
   ],
   "source": [
    "a = 1\n",
    "b = 'abc'\n",
    "\n",
    "print(a>b)"
   ]
  },
  {
   "cell_type": "code",
   "execution_count": 65,
   "id": "f36f981d",
   "metadata": {},
   "outputs": [
    {
     "name": "stdout",
     "output_type": "stream",
     "text": [
      "True\n"
     ]
    }
   ],
   "source": [
    "a = 'shailja'\n",
    "b = 'afsaan'\n",
    "\n",
    "print(len(a) > len(b))"
   ]
  },
  {
   "cell_type": "code",
   "execution_count": null,
   "id": "f4166ec7",
   "metadata": {},
   "outputs": [],
   "source": []
  }
 ],
 "metadata": {
  "kernelspec": {
   "display_name": "Python 3 (ipykernel)",
   "language": "python",
   "name": "python3"
  },
  "language_info": {
   "codemirror_mode": {
    "name": "ipython",
    "version": 3
   },
   "file_extension": ".py",
   "mimetype": "text/x-python",
   "name": "python",
   "nbconvert_exporter": "python",
   "pygments_lexer": "ipython3",
   "version": "3.9.7"
  }
 },
 "nbformat": 4,
 "nbformat_minor": 5
}
