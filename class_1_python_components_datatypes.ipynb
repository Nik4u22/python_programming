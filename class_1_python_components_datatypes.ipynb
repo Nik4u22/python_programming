{
 "cells": [
  {
   "cell_type": "code",
   "execution_count": null,
   "id": "76bf7b91",
   "metadata": {},
   "outputs": [],
   "source": [
    "# python Programming Components\n",
    "\n",
    "1. literals\n",
    "2. varibales\n",
    "3. constants\n",
    "4. Indentifiers\n",
    "5. reserved words\n",
    "6. statements and expression\n",
    "7. Blocks and indentation\n",
    "8. Comments"
   ]
  },
  {
   "cell_type": "code",
   "execution_count": null,
   "id": "08d6381a",
   "metadata": {},
   "outputs": [],
   "source": [
    "# literals\n",
    "\n",
    "any value the you use in programming language\n",
    "\n",
    "so in python we have different literals\n",
    "\n",
    "- int - any value without a decimal point for eg 10,20,30\n",
    "- float - any value with a decinmal point for eg 10.2, -99.999 , -100.0 , 100.0\n",
    "- complex - any value that can be written in the form of a+bj where a is the real and.b is the imaganiary\n",
    "- Bool - True/False\n",
    "- string - anything that can be wriiten inside a '..',\"..\",\"\"\"...\"\"\"\n",
    "- None - used to represent empty data"
   ]
  },
  {
   "cell_type": "code",
   "execution_count": 2,
   "id": "2407d357",
   "metadata": {},
   "outputs": [
    {
     "name": "stdout",
     "output_type": "stream",
     "text": [
      "True\n"
     ]
    }
   ],
   "source": [
    "a = 'afsan'\n",
    "print(a)"
   ]
  },
  {
   "cell_type": "markdown",
   "id": "197b3ef6",
   "metadata": {},
   "source": [
    "10 - int\n",
    "'20' - str\n",
    "'123 - error\n",
    "'afsan - error\n",
    "None - None\n",
    "True - bool\n",
    "'False' - str\n",
    "\"\"\"abc\"\"\" - str\n",
    "6+7j - complex\n",
    "6+7 - int\n",
    "11+7i - error\n",
    "11.29 - float\n",
    "-99.01 - float\n",
    "-100.01a - error\n",
    "None - None"
   ]
  },
  {
   "cell_type": "code",
   "execution_count": null,
   "id": "fcd9d495",
   "metadata": {},
   "outputs": [],
   "source": [
    "# Constants, Variables and Identifiers\n",
    "\n",
    "constant and varibale is a subset of indeifiers\n",
    "\n",
    "indentifir - any name given to a varaible , constant , class name , function name\n",
    "\n",
    "# Rules of identifiers\n",
    "1. allowed char - A-Z,a-z,0-9,_\n",
    "2. not allowrd char - special char - #,*,^,()\n",
    "3. cannot start with a number 0-9\n",
    "4. Case senstive\n",
    "5. can be of any length\n",
    "6. cannot use the keyword(Reserved) words"
   ]
  },
  {
   "cell_type": "code",
   "execution_count": null,
   "id": "3a39c0cc",
   "metadata": {},
   "outputs": [],
   "source": [
    "a = 10\n",
    "\n",
    "# a - var\n",
    "# = - assignemnt\n",
    "# 10 - value"
   ]
  },
  {
   "cell_type": "code",
   "execution_count": 5,
   "id": "4416b2c2",
   "metadata": {},
   "outputs": [
    {
     "ename": "NameError",
     "evalue": "name 'abc' is not defined",
     "output_type": "error",
     "traceback": [
      "\u001b[0;31m---------------------------------------------------------------------------\u001b[0m",
      "\u001b[0;31mNameError\u001b[0m                                 Traceback (most recent call last)",
      "Input \u001b[0;32mIn [5]\u001b[0m, in \u001b[0;36m<cell line: 5>\u001b[0;34m()\u001b[0m\n\u001b[1;32m      3\u001b[0m a \u001b[38;5;241m=\u001b[39m \u001b[38;5;241m10\u001b[39m\n\u001b[1;32m      4\u001b[0m abc120 \u001b[38;5;241m=\u001b[39m \u001b[38;5;241m20\u001b[39m\n\u001b[0;32m----> 5\u001b[0m \u001b[43mabc\u001b[49m\n",
      "\u001b[0;31mNameError\u001b[0m: name 'abc' is not defined"
     ]
    }
   ],
   "source": [
    "# 1. allowed char - A-Z,a-z,0-9,_\n",
    "\n",
    "a = 10\n",
    "abc120 = 20\n",
    "abc#123 = 20"
   ]
  },
  {
   "cell_type": "code",
   "execution_count": 6,
   "id": "7a4c7553",
   "metadata": {},
   "outputs": [
    {
     "ename": "SyntaxError",
     "evalue": "cannot assign to operator (3023633344.py, line 3)",
     "output_type": "error",
     "traceback": [
      "\u001b[0;36m  Input \u001b[0;32mIn [6]\u001b[0;36m\u001b[0m\n\u001b[0;31m    a@123 = 10\u001b[0m\n\u001b[0m    ^\u001b[0m\n\u001b[0;31mSyntaxError\u001b[0m\u001b[0;31m:\u001b[0m cannot assign to operator\n"
     ]
    }
   ],
   "source": [
    "# 2. not allowrd char - special char - #,*,^,()\n",
    "\n",
    "a@123 = 10"
   ]
  },
  {
   "cell_type": "code",
   "execution_count": 8,
   "id": "627f3ca3",
   "metadata": {},
   "outputs": [
    {
     "ename": "SyntaxError",
     "evalue": "invalid syntax (2903015125.py, line 4)",
     "output_type": "error",
     "traceback": [
      "\u001b[0;36m  Input \u001b[0;32mIn [8]\u001b[0;36m\u001b[0m\n\u001b[0;31m    123abc = 100 # not\u001b[0m\n\u001b[0m       ^\u001b[0m\n\u001b[0;31mSyntaxError\u001b[0m\u001b[0;31m:\u001b[0m invalid syntax\n"
     ]
    }
   ],
   "source": [
    "# 3. cannot start with a number 0-9\n",
    "\n",
    "abc123 = 20 # allowed\n",
    "123abc = 100 # not"
   ]
  },
  {
   "cell_type": "code",
   "execution_count": 10,
   "id": "1ed21f94",
   "metadata": {},
   "outputs": [
    {
     "name": "stdout",
     "output_type": "stream",
     "text": [
      "100\n"
     ]
    }
   ],
   "source": [
    "# 4. Case senstive\n",
    "\n",
    "afsan = 10\n",
    "Afsan = 100\n",
    "print(Afsan)"
   ]
  },
  {
   "cell_type": "code",
   "execution_count": 11,
   "id": "68ed3f30",
   "metadata": {},
   "outputs": [
    {
     "name": "stdout",
     "output_type": "stream",
     "text": [
      "10\n"
     ]
    }
   ],
   "source": [
    "# 5. can be of any length\n",
    "\n",
    "aaaaaaaaaaaaaaaaaaaaaa = 10\n",
    "print(aaaaaaaaaaaaaaaaaaaaaa)"
   ]
  },
  {
   "cell_type": "code",
   "execution_count": null,
   "id": "fd0b22b3",
   "metadata": {},
   "outputs": [],
   "source": [
    "# Keywords/ reserved words\n",
    "\n",
    "- Words/key that is already used by python for internal purposes"
   ]
  },
  {
   "cell_type": "code",
   "execution_count": 12,
   "id": "20053725",
   "metadata": {},
   "outputs": [
    {
     "name": "stdout",
     "output_type": "stream",
     "text": [
      "['False', 'None', 'True', '__peg_parser__', 'and', 'as', 'assert', 'async', 'await', 'break', 'class', 'continue', 'def', 'del', 'elif', 'else', 'except', 'finally', 'for', 'from', 'global', 'if', 'import', 'in', 'is', 'lambda', 'nonlocal', 'not', 'or', 'pass', 'raise', 'return', 'try', 'while', 'with', 'yield']\n"
     ]
    }
   ],
   "source": [
    "import keyword\n",
    "print(keyword.kwlist)"
   ]
  },
  {
   "cell_type": "code",
   "execution_count": 13,
   "id": "a28b4e3a",
   "metadata": {},
   "outputs": [
    {
     "ename": "SyntaxError",
     "evalue": "invalid syntax (1452700371.py, line 3)",
     "output_type": "error",
     "traceback": [
      "\u001b[0;36m  Input \u001b[0;32mIn [13]\u001b[0;36m\u001b[0m\n\u001b[0;31m    or = 100\u001b[0m\n\u001b[0m    ^\u001b[0m\n\u001b[0;31mSyntaxError\u001b[0m\u001b[0;31m:\u001b[0m invalid syntax\n"
     ]
    }
   ],
   "source": [
    "# 6. cannot use the keyword(Reserved) words\n",
    "\n",
    "or = 100"
   ]
  },
  {
   "cell_type": "markdown",
   "id": "6ea7eaf1",
   "metadata": {},
   "source": [
    "afsan\n",
    "willingtono1\n",
    "1abc - invalid\n",
    "none\n",
    "Finally\n",
    "true\n",
    "abc@123 - invalid\n",
    "abc__123__123__ \n",
    "123_abc - invalid\n",
    "(abc) - invalid\n",
    "af_sa_n\n",
    "af_khan\n",
    "AK\n",
    "07Messi - invalid\n",
    "11Ronaldo - invalid"
   ]
  },
  {
   "cell_type": "markdown",
   "id": "2856afd4",
   "metadata": {},
   "source": [
    "# 6. statements and expression\n",
    "\n",
    "expression - combination of varibales and literals to give some values, expresion will alawys return the value on the screen\n",
    "\n",
    "\n",
    "statment - does not return any result"
   ]
  },
  {
   "cell_type": "code",
   "execution_count": 14,
   "id": "d195c5a6",
   "metadata": {},
   "outputs": [
    {
     "data": {
      "text/plain": [
       "10"
      ]
     },
     "execution_count": 14,
     "metadata": {},
     "output_type": "execute_result"
    }
   ],
   "source": [
    "10"
   ]
  },
  {
   "cell_type": "code",
   "execution_count": 15,
   "id": "c764e3f5",
   "metadata": {},
   "outputs": [
    {
     "data": {
      "text/plain": [
       "30"
      ]
     },
     "execution_count": 15,
     "metadata": {},
     "output_type": "execute_result"
    }
   ],
   "source": [
    "10+20"
   ]
  },
  {
   "cell_type": "code",
   "execution_count": 16,
   "id": "07b94815",
   "metadata": {},
   "outputs": [],
   "source": [
    "a = 20"
   ]
  },
  {
   "cell_type": "code",
   "execution_count": 17,
   "id": "d7eb10ae",
   "metadata": {},
   "outputs": [
    {
     "data": {
      "text/plain": [
       "'afsankhan'"
      ]
     },
     "execution_count": 17,
     "metadata": {},
     "output_type": "execute_result"
    }
   ],
   "source": [
    "'afsan' + 'khan'"
   ]
  },
  {
   "cell_type": "code",
   "execution_count": null,
   "id": "0c8d2543",
   "metadata": {},
   "outputs": [],
   "source": [
    "# 7. Blocks and indentation\n",
    "\n",
    "stat 1\n",
    "stat 2\n",
    "stat 3\n",
    "stat 4\n",
    "stat 5\n",
    "\n",
    "steps - 1,2,3,4,5\n",
    "\n",
    "stat 1\n",
    "stat 2\n",
    "if cond:\n",
    "  stat 3\n",
    "  stat 4\n",
    "stat 5"
   ]
  },
  {
   "cell_type": "code",
   "execution_count": null,
   "id": "f90ede7f",
   "metadata": {},
   "outputs": [],
   "source": [
    "standard spacing - 4spaces = 1 tab\n"
   ]
  },
  {
   "cell_type": "code",
   "execution_count": null,
   "id": "61a65a81",
   "metadata": {},
   "outputs": [],
   "source": [
    "# 8. Comments\n",
    "\n",
    "1. it make code more readable\n",
    "2. it makes code more understandable\n",
    "3. stop the exec of the code"
   ]
  },
  {
   "cell_type": "code",
   "execution_count": null,
   "id": "ee82a0fc",
   "metadata": {},
   "outputs": [],
   "source": [
    "# code to print name on screen\n",
    "\n",
    "a = 'afsan'  # firstname\n",
    "b = 'khan' #second name\n",
    "\n",
    "print(a+b)"
   ]
  },
  {
   "cell_type": "code",
   "execution_count": 21,
   "id": "d86a83ff",
   "metadata": {},
   "outputs": [
    {
     "name": "stdout",
     "output_type": "stream",
     "text": [
      "afsan\n"
     ]
    }
   ],
   "source": [
    "# code to print name on screen\n",
    "\n",
    "a = 'afsan'  # firstname\n",
    "b = 'khan' #second name\n",
    "\n",
    "print(a)\n",
    "# print(b)"
   ]
  },
  {
   "cell_type": "code",
   "execution_count": null,
   "id": "aeae34df",
   "metadata": {},
   "outputs": [],
   "source": [
    "# Data types\n",
    "\n",
    "1. Fundamental - basic unit of data type\n",
    "\n",
    "- int\n",
    "- float\n",
    "- complex\n",
    "- String\n",
    "- None\n",
    "- Bool\n",
    "\n",
    "2. dervied data type - composed of fundamental data types\n",
    "\n",
    "- list\n",
    "- tuple\n",
    "- set\n",
    "- dict\n",
    "- range"
   ]
  },
  {
   "cell_type": "code",
   "execution_count": null,
   "id": "6fdba871",
   "metadata": {},
   "outputs": [],
   "source": [
    "# Integer Data type\n",
    "\n",
    "- any value without a decimal point"
   ]
  },
  {
   "cell_type": "code",
   "execution_count": 22,
   "id": "dcd8aa50",
   "metadata": {},
   "outputs": [
    {
     "name": "stdout",
     "output_type": "stream",
     "text": [
      "10\n"
     ]
    }
   ],
   "source": [
    "a = 10\n",
    "print(a)"
   ]
  },
  {
   "cell_type": "code",
   "execution_count": 23,
   "id": "3348b8c5",
   "metadata": {},
   "outputs": [
    {
     "name": "stdout",
     "output_type": "stream",
     "text": [
      "10\n"
     ]
    }
   ],
   "source": [
    "a = '10'\n",
    "print(a)"
   ]
  },
  {
   "cell_type": "code",
   "execution_count": null,
   "id": "93debcbb",
   "metadata": {},
   "outputs": [],
   "source": [
    "# funciton to check the data tpye of a varibale/value - type()"
   ]
  },
  {
   "cell_type": "code",
   "execution_count": 24,
   "id": "c1827370",
   "metadata": {},
   "outputs": [
    {
     "name": "stdout",
     "output_type": "stream",
     "text": [
      "<class 'int'>\n"
     ]
    }
   ],
   "source": [
    "a = 10\n",
    "print(type(a))"
   ]
  },
  {
   "cell_type": "code",
   "execution_count": 25,
   "id": "2a542733",
   "metadata": {},
   "outputs": [
    {
     "name": "stdout",
     "output_type": "stream",
     "text": [
      "<class 'str'>\n"
     ]
    }
   ],
   "source": [
    "a = '10'\n",
    "print(type(a))"
   ]
  },
  {
   "cell_type": "code",
   "execution_count": null,
   "id": "e35b721a",
   "metadata": {},
   "outputs": [],
   "source": [
    "# types of operations in integer data type"
   ]
  },
  {
   "cell_type": "code",
   "execution_count": null,
   "id": "5efd658d",
   "metadata": {},
   "outputs": [],
   "source": [
    "1. arithmatic op - +, - , *, /(float divsion), //(floor division), %(modulo) , **\n",
    "\n"
   ]
  },
  {
   "cell_type": "code",
   "execution_count": 26,
   "id": "842a8aa7",
   "metadata": {},
   "outputs": [
    {
     "name": "stdout",
     "output_type": "stream",
     "text": [
      "30\n"
     ]
    }
   ],
   "source": [
    "print(10+20)"
   ]
  },
  {
   "cell_type": "code",
   "execution_count": 27,
   "id": "26f61824",
   "metadata": {},
   "outputs": [
    {
     "name": "stdout",
     "output_type": "stream",
     "text": [
      "-20\n"
     ]
    }
   ],
   "source": [
    "print(100-120)"
   ]
  },
  {
   "cell_type": "code",
   "execution_count": 28,
   "id": "f6fc9889",
   "metadata": {},
   "outputs": [
    {
     "name": "stdout",
     "output_type": "stream",
     "text": [
      "200\n"
     ]
    }
   ],
   "source": [
    "print(10*20)"
   ]
  },
  {
   "cell_type": "code",
   "execution_count": 29,
   "id": "ff6ec893",
   "metadata": {},
   "outputs": [
    {
     "name": "stdout",
     "output_type": "stream",
     "text": [
      "5.5\n"
     ]
    }
   ],
   "source": [
    "print(11/2)"
   ]
  },
  {
   "cell_type": "code",
   "execution_count": 30,
   "id": "f5b93fa7",
   "metadata": {},
   "outputs": [
    {
     "name": "stdout",
     "output_type": "stream",
     "text": [
      "5\n"
     ]
    }
   ],
   "source": [
    "print(11//2)"
   ]
  },
  {
   "cell_type": "code",
   "execution_count": 31,
   "id": "ca8443d4",
   "metadata": {},
   "outputs": [
    {
     "name": "stdout",
     "output_type": "stream",
     "text": [
      "1\n"
     ]
    }
   ],
   "source": [
    "print(11%2) # remainder"
   ]
  },
  {
   "cell_type": "code",
   "execution_count": 32,
   "id": "9a7dd43e",
   "metadata": {},
   "outputs": [
    {
     "name": "stdout",
     "output_type": "stream",
     "text": [
      "256\n"
     ]
    }
   ],
   "source": [
    "print(2**8)"
   ]
  },
  {
   "cell_type": "code",
   "execution_count": null,
   "id": "9ea572e5",
   "metadata": {},
   "outputs": [],
   "source": [
    "2. Comparison operators >,<,>=, <=\n",
    "\"\"\"\n",
    "- always returns a bool value True/False\n",
    "- combination allowed is\n",
    "        int vs int\n",
    "        float vs float\n",
    "        str vs str\n",
    "        int vs float\n",
    "        bool vs bool\n",
    "\n",
    "- combination with complex and none are not allowed\n",
    "\"\"\""
   ]
  },
  {
   "cell_type": "code",
   "execution_count": 33,
   "id": "ac48f3d1",
   "metadata": {},
   "outputs": [
    {
     "name": "stdout",
     "output_type": "stream",
     "text": [
      "False\n"
     ]
    }
   ],
   "source": [
    "print(10>30)"
   ]
  },
  {
   "cell_type": "code",
   "execution_count": 34,
   "id": "abb4ebdf",
   "metadata": {},
   "outputs": [
    {
     "name": "stdout",
     "output_type": "stream",
     "text": [
      "True\n"
     ]
    }
   ],
   "source": [
    "print(100>=100)"
   ]
  },
  {
   "cell_type": "code",
   "execution_count": 35,
   "id": "96115773",
   "metadata": {},
   "outputs": [
    {
     "ename": "TypeError",
     "evalue": "'>' not supported between instances of 'int' and 'str'",
     "output_type": "error",
     "traceback": [
      "\u001b[0;31m---------------------------------------------------------------------------\u001b[0m",
      "\u001b[0;31mTypeError\u001b[0m                                 Traceback (most recent call last)",
      "Input \u001b[0;32mIn [35]\u001b[0m, in \u001b[0;36m<cell line: 1>\u001b[0;34m()\u001b[0m\n\u001b[0;32m----> 1\u001b[0m \u001b[38;5;28mprint\u001b[39m(\u001b[38;5;241;43m100\u001b[39;49m\u001b[38;5;241;43m>\u001b[39;49m\u001b[38;5;124;43m'\u001b[39;49m\u001b[38;5;124;43mafsan\u001b[39;49m\u001b[38;5;124;43m'\u001b[39;49m)\n",
      "\u001b[0;31mTypeError\u001b[0m: '>' not supported between instances of 'int' and 'str'"
     ]
    }
   ],
   "source": [
    "print(100>'afsan')"
   ]
  },
  {
   "cell_type": "code",
   "execution_count": 36,
   "id": "f2898ee8",
   "metadata": {},
   "outputs": [
    {
     "name": "stdout",
     "output_type": "stream",
     "text": [
      "True\n"
     ]
    }
   ],
   "source": [
    "print('afsan'>'Nfsan')"
   ]
  },
  {
   "cell_type": "code",
   "execution_count": null,
   "id": "30d8913b",
   "metadata": {},
   "outputs": [],
   "source": [
    "a ---> 97\n",
    "N ---> 781"
   ]
  },
  {
   "cell_type": "code",
   "execution_count": 37,
   "id": "46e938a3",
   "metadata": {},
   "outputs": [
    {
     "name": "stdout",
     "output_type": "stream",
     "text": [
      "False\n"
     ]
    }
   ],
   "source": [
    "print('afsan'>'afsar')"
   ]
  },
  {
   "cell_type": "code",
   "execution_count": null,
   "id": "b114330a",
   "metadata": {},
   "outputs": [],
   "source": [
    "A-Z a-z"
   ]
  },
  {
   "cell_type": "code",
   "execution_count": 38,
   "id": "6623a41c",
   "metadata": {},
   "outputs": [
    {
     "name": "stdout",
     "output_type": "stream",
     "text": [
      "False\n"
     ]
    }
   ],
   "source": [
    "print('tutort'<='titort')"
   ]
  },
  {
   "cell_type": "code",
   "execution_count": 39,
   "id": "7d6e43b8",
   "metadata": {},
   "outputs": [
    {
     "ename": "TypeError",
     "evalue": "'>' not supported between instances of 'complex' and 'str'",
     "output_type": "error",
     "traceback": [
      "\u001b[0;31m---------------------------------------------------------------------------\u001b[0m",
      "\u001b[0;31mTypeError\u001b[0m                                 Traceback (most recent call last)",
      "Input \u001b[0;32mIn [39]\u001b[0m, in \u001b[0;36m<cell line: 1>\u001b[0;34m()\u001b[0m\n\u001b[0;32m----> 1\u001b[0m \u001b[38;5;28mprint\u001b[39m(\u001b[38;5;241;43m8\u001b[39;49m\u001b[38;5;241;43m+\u001b[39;49m\u001b[38;5;241;43m6\u001b[39;49m\u001b[43mj\u001b[49m\u001b[38;5;241;43m>\u001b[39;49m\u001b[38;5;124;43m'\u001b[39;49m\u001b[38;5;124;43mNfsan\u001b[39;49m\u001b[38;5;124;43m'\u001b[39;49m)\n",
      "\u001b[0;31mTypeError\u001b[0m: '>' not supported between instances of 'complex' and 'str'"
     ]
    }
   ],
   "source": [
    "print(8+6j>'Nfsan')"
   ]
  },
  {
   "cell_type": "code",
   "execution_count": null,
   "id": "c64d7a10",
   "metadata": {},
   "outputs": [],
   "source": [
    "3. equality operators ==, !=\n",
    "\n",
    "\"\"\"\n",
    "return bool value\n",
    "\"\"\""
   ]
  },
  {
   "cell_type": "code",
   "execution_count": 40,
   "id": "9af7b562",
   "metadata": {},
   "outputs": [
    {
     "name": "stdout",
     "output_type": "stream",
     "text": [
      "False\n"
     ]
    }
   ],
   "source": [
    "print(11 == 11)"
   ]
  },
  {
   "cell_type": "code",
   "execution_count": 41,
   "id": "3b864709",
   "metadata": {},
   "outputs": [
    {
     "name": "stdout",
     "output_type": "stream",
     "text": [
      "False\n"
     ]
    }
   ],
   "source": [
    "print(11 != 11)"
   ]
  },
  {
   "cell_type": "code",
   "execution_count": 42,
   "id": "29e3d39d",
   "metadata": {},
   "outputs": [
    {
     "name": "stdout",
     "output_type": "stream",
     "text": [
      "True\n"
     ]
    }
   ],
   "source": [
    "print(100 == 100)"
   ]
  },
  {
   "cell_type": "code",
   "execution_count": 43,
   "id": "6fcf5121",
   "metadata": {},
   "outputs": [
    {
     "name": "stdout",
     "output_type": "stream",
     "text": [
      "True\n"
     ]
    }
   ],
   "source": [
    "print(100.0 == 100)"
   ]
  },
  {
   "cell_type": "code",
   "execution_count": 44,
   "id": "57df5c9f",
   "metadata": {},
   "outputs": [
    {
     "name": "stdout",
     "output_type": "stream",
     "text": [
      "True\n"
     ]
    }
   ],
   "source": [
    "print(100+6j == 100+6j)"
   ]
  },
  {
   "cell_type": "code",
   "execution_count": 47,
   "id": "1af655f7",
   "metadata": {},
   "outputs": [
    {
     "data": {
      "text/plain": [
       "78"
      ]
     },
     "execution_count": 47,
     "metadata": {},
     "output_type": "execute_result"
    }
   ],
   "source": [
    "# ASCII\n",
    "\n",
    "# the ascii value of a char - ord()\n",
    "\n",
    "ord('N')"
   ]
  },
  {
   "cell_type": "code",
   "execution_count": 48,
   "id": "09a14eea",
   "metadata": {},
   "outputs": [
    {
     "data": {
      "text/plain": [
       "'d'"
      ]
     },
     "execution_count": 48,
     "metadata": {},
     "output_type": "execute_result"
    }
   ],
   "source": [
    "# from ascii value to a char - chr\n",
    "\n",
    "chr(100)"
   ]
  },
  {
   "cell_type": "code",
   "execution_count": null,
   "id": "e2d455fa",
   "metadata": {},
   "outputs": [],
   "source": [
    "5. logical operator - and, or, not\n",
    "\n",
    "and\n",
    "\n",
    "True and True --> True\n",
    "True and False --> False\n",
    "False and False --> False\n",
    "False and True --> False\n",
    "\n",
    "or\n",
    "True or True --> True\n",
    "True or False --> True\n",
    "False or False --> False\n",
    "False or True --> True\n",
    "\n",
    "not\n",
    "\n",
    "not True --> False\n",
    "not False --> True\n"
   ]
  },
  {
   "cell_type": "code",
   "execution_count": 49,
   "id": "8486510e",
   "metadata": {},
   "outputs": [
    {
     "name": "stdout",
     "output_type": "stream",
     "text": [
      "False\n"
     ]
    }
   ],
   "source": [
    "print(True and False)"
   ]
  },
  {
   "cell_type": "code",
   "execution_count": 50,
   "id": "e9a96927",
   "metadata": {},
   "outputs": [
    {
     "name": "stdout",
     "output_type": "stream",
     "text": [
      "True\n"
     ]
    }
   ],
   "source": [
    "print(not False)"
   ]
  },
  {
   "cell_type": "code",
   "execution_count": 51,
   "id": "c18b54d8",
   "metadata": {},
   "outputs": [
    {
     "name": "stdout",
     "output_type": "stream",
     "text": [
      "False\n"
     ]
    }
   ],
   "source": [
    "print((10>29) and (11 != 11))"
   ]
  },
  {
   "cell_type": "code",
   "execution_count": null,
   "id": "554a7938",
   "metadata": {},
   "outputs": [],
   "source": []
  }
 ],
 "metadata": {
  "kernelspec": {
   "display_name": "Python 3 (ipykernel)",
   "language": "python",
   "name": "python3"
  },
  "language_info": {
   "codemirror_mode": {
    "name": "ipython",
    "version": 3
   },
   "file_extension": ".py",
   "mimetype": "text/x-python",
   "name": "python",
   "nbconvert_exporter": "python",
   "pygments_lexer": "ipython3",
   "version": "3.9.12"
  }
 },
 "nbformat": 4,
 "nbformat_minor": 5
}
